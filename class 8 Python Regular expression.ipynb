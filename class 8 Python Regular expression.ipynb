{
 "cells": [
  {
   "cell_type": "markdown",
   "id": "5c8aaeed",
   "metadata": {},
   "source": [
    "# ''''''we love our country! Pakistan Zindabad'''\n",
    "we have some special charactr for special purpose\n",
    "'''\n",
    ". any thing ecept \\n\n",
    "* zero or many\n",
    "+ one or many\n",
    "  start\n",
    "$ end\n",
    "\n",
    "'''\n"
   ]
  },
  {
   "cell_type": "code",
   "execution_count": 9,
   "id": "b49a3c32",
   "metadata": {},
   "outputs": [],
   "source": [
    "import re"
   ]
  },
  {
   "cell_type": "code",
   "execution_count": 5,
   "id": "4534b411",
   "metadata": {},
   "outputs": [
    {
     "ename": "NameError",
     "evalue": "name 're' is not defined",
     "output_type": "error",
     "traceback": [
      "\u001b[1;31m---------------------------------------------------------------------------\u001b[0m",
      "\u001b[1;31mNameError\u001b[0m                                 Traceback (most recent call last)",
      "Cell \u001b[1;32mIn[5], line 1\u001b[0m\n\u001b[1;32m----> 1\u001b[0m (i \u001b[38;5;28;01mfor\u001b[39;00m i \u001b[38;5;129;01min\u001b[39;00m \u001b[38;5;28mdir\u001b[39m(re) \u001b[38;5;28;01mif\u001b[39;00m \u001b[38;5;124m\"\u001b[39m\u001b[38;5;124m_\u001b[39m\u001b[38;5;124m\"\u001b[39m \u001b[38;5;129;01mnot\u001b[39;00m \u001b[38;5;129;01min\u001b[39;00m i)\n",
      "\u001b[1;31mNameError\u001b[0m: name 're' is not defined"
     ]
    }
   ],
   "source": [
    "(i for i in dir(re) if \"_\" not in i)"
   ]
  },
  {
   "cell_type": "code",
   "execution_count": 12,
   "id": "d6b79641",
   "metadata": {},
   "outputs": [
    {
     "data": {
      "text/plain": [
       "['r', 'r']"
      ]
     },
     "execution_count": 12,
     "metadata": {},
     "output_type": "execute_result"
    }
   ],
   "source": [
    "text = \"we love our country Pakistan zinda bad!\"\n",
    "pattern =\"r\"\n",
    "re.findall(pattern,text)\n"
   ]
  },
  {
   "cell_type": "code",
   "execution_count": 16,
   "id": "548e3fe8",
   "metadata": {},
   "outputs": [
    {
     "data": {
      "text/plain": [
       "['Pakistan', 'pakistan']"
      ]
     },
     "execution_count": 16,
     "metadata": {},
     "output_type": "execute_result"
    }
   ],
   "source": [
    "text = '''\n",
    "we love our country Pakistan zinda bad!. pakistan is one of the best country in the world.'''\n",
    "pattern =\"Pakistan\"\n",
    "re.findall(pattern,text,re.IGNORECASE)"
   ]
  },
  {
   "cell_type": "code",
   "execution_count": 17,
   "id": "ee08c1c6",
   "metadata": {},
   "outputs": [],
   "source": [
    "import re"
   ]
  },
  {
   "cell_type": "code",
   "execution_count": 3,
   "id": "46c6d326",
   "metadata": {},
   "outputs": [
    {
     "name": "stdout",
     "output_type": "stream",
     "text": [
      "['A', 'ASCII', 'DEBUG', 'DOTALL', 'I', 'IGNORECASE', 'L', 'LOCALE', 'M', 'MULTILINE', 'Match', 'NOFLAG', 'Pattern', 'RegexFlag', 'S', 'Scanner', 'T', 'TEMPLATE', 'U', 'UNICODE', 'VERBOSE', 'X', '_MAXCACHE', '__all__', '__builtins__', '__cached__', '__doc__', '__file__', '__loader__', '__name__', '__package__', '__path__', '__spec__', '__version__', '_cache', '_casefix', '_compile', '_compile_repl', '_compiler', '_constants', '_expand', '_parser', '_pickle', '_special_chars_map', '_subx', 'compile', 'copyreg', 'enum', 'error', 'escape', 'findall', 'finditer', 'fullmatch', 'functools', 'match', 'purge', 'search', 'split', 'sub', 'subn', 'template']\n"
     ]
    }
   ],
   "source": [
    "print(dir(re))"
   ]
  },
  {
   "cell_type": "code",
   "execution_count": 5,
   "id": "4bcb8004",
   "metadata": {},
   "outputs": [
    {
     "data": {
      "text/plain": [
       "['A',\n",
       " 'ASCII',\n",
       " 'DEBUG',\n",
       " 'DOTALL',\n",
       " 'I',\n",
       " 'IGNORECASE',\n",
       " 'L',\n",
       " 'LOCALE',\n",
       " 'M',\n",
       " 'MULTILINE',\n",
       " 'Match',\n",
       " 'NOFLAG',\n",
       " 'Pattern',\n",
       " 'RegexFlag',\n",
       " 'S',\n",
       " 'Scanner',\n",
       " 'T',\n",
       " 'TEMPLATE',\n",
       " 'U',\n",
       " 'UNICODE',\n",
       " 'VERBOSE',\n",
       " 'X',\n",
       " 'compile',\n",
       " 'copyreg',\n",
       " 'enum',\n",
       " 'error',\n",
       " 'escape',\n",
       " 'findall',\n",
       " 'finditer',\n",
       " 'fullmatch',\n",
       " 'functools',\n",
       " 'match',\n",
       " 'purge',\n",
       " 'search',\n",
       " 'split',\n",
       " 'sub',\n",
       " 'subn',\n",
       " 'template']"
      ]
     },
     "execution_count": 5,
     "metadata": {},
     "output_type": "execute_result"
    }
   ],
   "source": [
    "[i for i in dir(re) if \"_\" not in i]"
   ]
  },
  {
   "cell_type": "code",
   "execution_count": 20,
   "id": "b5047151",
   "metadata": {},
   "outputs": [
    {
     "data": {
      "text/plain": [
       "'\\nwe love our country Pakistan zinda bad!. \\npakistan is one of the best country in the world.'"
      ]
     },
     "metadata": {},
     "output_type": "display_data"
    },
    {
     "data": {
      "text/plain": [
       "['Pakistan', 'pakistan']"
      ]
     },
     "execution_count": 20,
     "metadata": {},
     "output_type": "execute_result"
    }
   ],
   "source": [
    "text = '''\n",
    "we love our country Pakistan zinda bad!. \n",
    "pakistan is one of the best country in the world.'''\n",
    "pattern =\"Pakistan\"\n",
    "\n",
    "display(text)\n",
    "re.findall(pattern,text,re.IGNORECASE)\n"
   ]
  },
  {
   "cell_type": "code",
   "execution_count": null,
   "id": "61eab94a",
   "metadata": {},
   "outputs": [],
   "source": [
    "# . any thing \\n\n",
    "# * zeor or many\n",
    "# + one or many"
   ]
  },
  {
   "cell_type": "code",
   "execution_count": 22,
   "id": "b482135b",
   "metadata": {},
   "outputs": [
    {
     "data": {
      "text/plain": [
       "['we ',\n",
       " 'lov',\n",
       " 'e o',\n",
       " 'ur ',\n",
       " 'cou',\n",
       " 'ntr',\n",
       " 'y P',\n",
       " 'aki',\n",
       " 'sta',\n",
       " 'n z',\n",
       " 'ind',\n",
       " 'a b',\n",
       " 'ad!',\n",
       " 'pak',\n",
       " 'ist',\n",
       " 'an ',\n",
       " 'is ',\n",
       " 'one',\n",
       " ' of',\n",
       " ' th',\n",
       " 'e b',\n",
       " 'est',\n",
       " ' co',\n",
       " 'unt',\n",
       " 'ry ',\n",
       " 'in ',\n",
       " 'the',\n",
       " ' wo',\n",
       " 'rld']"
      ]
     },
     "execution_count": 22,
     "metadata": {},
     "output_type": "execute_result"
    }
   ],
   "source": [
    "text = '''\n",
    "we love our country Pakistan zinda bad!. \n",
    "pakistan is one of the best country in the world.'''\n",
    "\n",
    "pattern =\"Pakistan\"\n",
    "\n",
    "re.findall('...',text,re.IGNORECASE)"
   ]
  },
  {
   "cell_type": "code",
   "execution_count": 24,
   "id": "f6562dda",
   "metadata": {},
   "outputs": [
    {
     "data": {
      "text/plain": [
       "['we love our country Pakistan zinda bad!. ',\n",
       " 'pakistan is one of the best country in the world.',\n",
       " 'Hellow world']"
      ]
     },
     "execution_count": 24,
     "metadata": {},
     "output_type": "execute_result"
    }
   ],
   "source": [
    "text = '''\n",
    "we love our country Pakistan zinda bad!. \n",
    "pakistan is one of the best country in the world.\n",
    "Hellow world'''\n",
    "\n",
    "pattern =\"Pakistan\"\n",
    "\n",
    "re.findall('.+',text,re.IGNORECASE)"
   ]
  },
  {
   "cell_type": "markdown",
   "id": "4f3de0e8",
   "metadata": {},
   "source": [
    "# We have some special characters for special purpos\n",
    "'''\n",
    ". any thing except \\n\n",
    "* zeor or many\n",
    "+ one or many\n",
    "^ start\n",
    "$ end\n",
    "'''"
   ]
  },
  {
   "cell_type": "code",
   "execution_count": 4,
   "id": "515cab45",
   "metadata": {},
   "outputs": [],
   "source": [
    "import re"
   ]
  },
  {
   "cell_type": "code",
   "execution_count": 6,
   "id": "b0efa82f",
   "metadata": {},
   "outputs": [
    {
     "data": {
      "text/plain": [
       "'\\nwe love our country Pakistan zinda bad!. \\npakistan is one of the best country in the world.\\nHellow world'"
      ]
     },
     "metadata": {},
     "output_type": "display_data"
    },
    {
     "data": {
      "text/plain": [
       "['we love our country Pakistan zinda bad!. ',\n",
       " 'pakistan is one of the best country in the world.',\n",
       " 'Hellow world']"
      ]
     },
     "execution_count": 6,
     "metadata": {},
     "output_type": "execute_result"
    }
   ],
   "source": [
    "text = '''\n",
    "we love our country Pakistan zinda bad!. \n",
    "pakistan is one of the best country in the world.\n",
    "Hellow world'''\n",
    "\n",
    "display(text)\n",
    "pattern =\"Pakistan\"\n",
    "\n",
    "re.findall('.+',text,re.IGNORECASE)"
   ]
  },
  {
   "cell_type": "code",
   "execution_count": 10,
   "id": "2f9b8f60",
   "metadata": {},
   "outputs": [
    {
     "data": {
      "text/plain": [
       "['we l',\n",
       " 'ove ',\n",
       " 'our ',\n",
       " 'coun',\n",
       " 'try ',\n",
       " 'Paki',\n",
       " 'stan',\n",
       " ' zin',\n",
       " 'da b',\n",
       " 'ad!.',\n",
       " 'paki',\n",
       " 'stan',\n",
       " ' is ',\n",
       " 'one ',\n",
       " 'of t',\n",
       " 'he b',\n",
       " 'est ',\n",
       " 'coun',\n",
       " 'try ',\n",
       " 'in t',\n",
       " 'he w',\n",
       " 'orld',\n",
       " 'Hell',\n",
       " 'ow w',\n",
       " 'orld']"
      ]
     },
     "execution_count": 10,
     "metadata": {},
     "output_type": "execute_result"
    }
   ],
   "source": [
    "text = '''\n",
    "we love our country Pakistan zinda bad!. \n",
    "pakistan is one of the best country in the world.\n",
    "Hellow world'''\n",
    "\n",
    "#display(text)\n",
    "pattern =\"...\"\n",
    "\n",
    "re.findall('....',text,re.IGNORECASE)"
   ]
  },
  {
   "cell_type": "code",
   "execution_count": 14,
   "id": "6faa59c6",
   "metadata": {},
   "outputs": [
    {
     "data": {
      "text/plain": [
       "'\\nwe love our country Pakistan zinda bads.\\npakistan is one of the best country in the world.Hellow worlds\\nLearn the strengths and weaknesses of ChatGPT!. Midjourney, GitHub Copilot, Stable Diffusion & other major models.!\\nRecognize the \"Five Principles of Prompt Engineering\", as well as common tips & tricks for professional grad output.!\\nApply what you’ve learned to generate new AI products in 15+ real-world projects for both text and image generation use cases\\n'"
      ]
     },
     "metadata": {},
     "output_type": "display_data"
    },
    {
     "data": {
      "text/plain": [
       "['pakistan is one of the best country in the world.Hellow worlds',\n",
       " 'Apply what you’ve learned to generate new AI products in 15+ real-world projects for both text and image generation use cases']"
      ]
     },
     "execution_count": 14,
     "metadata": {},
     "output_type": "execute_result"
    }
   ],
   "source": [
    "text = '''\n",
    "we love our country Pakistan zinda bads.\n",
    "pakistan is one of the best country in the world.Hellow worlds\n",
    "Learn the strengths and weaknesses of ChatGPT!. Midjourney, GitHub Copilot, Stable Diffusion & other major models.!\n",
    "Recognize the \"Five Principles of Prompt Engineering\", as well as common tips & tricks for professional grad output.!\n",
    "Apply what you’ve learned to generate new AI products in 15+ real-world projects for both text and image generation use cases\n",
    "'''\n",
    "\n",
    "#display(text)\n",
    "display(text)\n",
    "\n",
    "re.findall(\"^.+s$\",text,re.MULTILINE)"
   ]
  },
  {
   "cell_type": "code",
   "execution_count": 4,
   "id": "b8df9675",
   "metadata": {},
   "outputs": [
    {
     "data": {
      "text/plain": [
       "'\\nwe love our country Pakistan zinda bad!. \\npakistan is one of the best country in the world.\\nHellow world\\nLearn the strengths and weaknesses of ChatGPT!. Midjourney, GitHub Copilot, Stable Diffusion & other major models.!\\nRecognize the \"Five Principles of Prompt Engineering\", as well as common tips & tricks for professional grad output.!\\nApply what you’ve learned to generate new AI products in 15+ real-world projects for both text and image generation use cases\\n'"
      ]
     },
     "metadata": {},
     "output_type": "display_data"
    },
    {
     "data": {
      "text/plain": [
       "['country Pakistan zinda bad!. ',\n",
       " 'country in the world.',\n",
       " 'ChatGPT!. Midjourney, GitHub Copilot, Stable Diffusion & other major models.!',\n",
       " 'cognize the \"Five Principles of Prompt Engineering\", as well as common tips & tricks for professional grad output.!',\n",
       " 'cts in 15+ real-world projects for both text and image generation use cases']"
      ]
     },
     "execution_count": 4,
     "metadata": {},
     "output_type": "execute_result"
    }
   ],
   "source": [
    "text = '''\n",
    "we love our country Pakistan zinda bad!. \n",
    "pakistan is one of the best country in the world.\n",
    "Hellow world\n",
    "Learn the strengths and weaknesses of ChatGPT!. Midjourney, GitHub Copilot, Stable Diffusion & other major models.!\n",
    "Recognize the \"Five Principles of Prompt Engineering\", as well as common tips & tricks for professional grad output.!\n",
    "Apply what you’ve learned to generate new AI products in 15+ real-world projects for both text and image generation use cases\n",
    "'''\n",
    "\n",
    "#display(text)\n",
    "display(text)\n",
    "\n",
    "re.findall('C.+',text,re.IGNORECASE)"
   ]
  },
  {
   "cell_type": "markdown",
   "id": "382b5f63",
   "metadata": {},
   "source": [
    "# convert any special meaning character into normal character place \"\\\" before special character\n",
    "\\"
   ]
  },
  {
   "cell_type": "code",
   "execution_count": 18,
   "id": "48dacbe4",
   "metadata": {},
   "outputs": [
    {
     "data": {
      "text/plain": [
       "['we love our country Pakistan zinda bads.',\n",
       " 'Learn the strengths and weaknesses of ChatGPT!.',\n",
       " 'Midjourney, GitHub Copilot, Stable Diffusion & other major models.',\n",
       " 'Recognize the \"Five Principles of Prompt Engineering\", as well as common tips & tricks for professional grad output.']"
      ]
     },
     "execution_count": 18,
     "metadata": {},
     "output_type": "execute_result"
    }
   ],
   "source": [
    "text = '''\n",
    "we love our country Pakistan zinda bads.\n",
    "pakistan is one of the best country in the world.Hellow worlds\n",
    "Learn the strengths and weaknesses of ChatGPT!.\n",
    "Midjourney, GitHub Copilot, Stable Diffusion & other major models.\n",
    "Recognize the \"Five Principles of Prompt Engineering\", as well as common tips & tricks for professional grad output.\n",
    "Apply what you’ve learned to generate new AI products in 15+ real-world projects for both text and image generation use cases\n",
    "'''\n",
    "re.findall(\".+\\.$\",text,re.MULTILINE)"
   ]
  },
  {
   "cell_type": "code",
   "execution_count": null,
   "id": "2dcfa2d4",
   "metadata": {},
   "outputs": [],
   "source": [
    "text = '''\n",
    "we love our country Pakistan zinda bads.\n",
    "pakistan is one of the best country in the world.Hellow worlds\n",
    "Learn the strengths and weaknesses of ChatGPT!.\n",
    "Midjourney, GitHub Copilot, Stable Diffusion & other major models.\n",
    "Recognize the \"Five Principles of Prompt Engineering\", as well as common tips & tricks for professional grad output.\n",
    "Apply what you’ve learned to generate new AI products in 15+ real-world projects for both text and image generation use cases\n",
    "'''\n",
    "re.findall(\".+\\.$\",text,re.MULTILINE)"
   ]
  },
  {
   "cell_type": "code",
   "execution_count": null,
   "id": "48393c28",
   "metadata": {},
   "outputs": [],
   "source": [
    "# start and end\n",
    "#  ^\\t\\t$"
   ]
  },
  {
   "cell_type": "code",
   "execution_count": 27,
   "id": "a0759155",
   "metadata": {},
   "outputs": [
    {
     "name": "stdout",
     "output_type": "stream",
     "text": [
      "['Pakistan Is One Of The Best Country In The World.Hellow Worlds', 'Pecognize The \"Five Principles Of Prompt Engineering\", As Well As Common Tips & Tricks For Professional Grad Outputs']\n"
     ]
    }
   ],
   "source": [
    "text = '''\n",
    "we love our country Pakistan zinda bads.\n",
    "pakistan is one of the best country in the world.Hellow worlds\n",
    "Learn the strengths and weaknesses of ChatGPT!.\n",
    "Midjourney, GitHub Copilot, Stable Diffusion & other major models.\n",
    "Pecognize the \"Five Principles of Prompt Engineering\", as well as common tips & tricks for professional grad outputs\n",
    "Apply what you’ve learned to generate new AI products in 15+ real-world projects for both text and image generation use cases\n",
    "'''\n",
    "\n",
    "text = text.lower()\n",
    "l = re.findall(\"^p.+s$\",text,re.MULTILINE)\n",
    "l = [i.title() for i in l]\n",
    "print(l)\n"
   ]
  },
  {
   "cell_type": "code",
   "execution_count": 31,
   "id": "a809ff35",
   "metadata": {},
   "outputs": [
    {
     "data": {
      "text/plain": [
       "['o',\n",
       " 'o',\n",
       " 'co',\n",
       " 'n',\n",
       " 'n',\n",
       " 'n',\n",
       " 'n',\n",
       " 'on',\n",
       " 'o',\n",
       " 'co',\n",
       " 'n',\n",
       " 'n',\n",
       " 'o',\n",
       " 'o',\n",
       " 'o',\n",
       " 'n',\n",
       " 'n',\n",
       " 'n',\n",
       " 'n',\n",
       " 'o']"
      ]
     },
     "execution_count": 31,
     "metadata": {},
     "output_type": "execute_result"
    }
   ],
   "source": [
    "text = '''\n",
    "we love our country Pakistan zinda bads.\n",
    "pakistan is one of the best country in the world.Hellow worlds\n",
    "Learn the strengths and weaknesses of ChatGPT!.\n",
    "'''\n",
    "\n",
    "pattern = \"[con]+\"\n",
    "\n",
    "l = re.findall(pattern, text)\n",
    "l"
   ]
  },
  {
   "cell_type": "code",
   "execution_count": 8,
   "id": "e2b3faab",
   "metadata": {},
   "outputs": [
    {
     "data": {
      "text/plain": [
       "['we love our country Pakistan zinda bads.', 'Hellow worlds']"
      ]
     },
     "execution_count": 8,
     "metadata": {},
     "output_type": "execute_result"
    }
   ],
   "source": [
    "text = '''\n",
    "we love our country Pakistan zinda bads.\n",
    "pakistan is one of the best country in the world. \n",
    "Hellow worlds\n",
    "Learn the strengths and weaknesses of ChatGPT!.\n",
    "'''\n",
    "\n",
    "pattern = \"^[whHW].+\"\n",
    "\n",
    "l = re.findall(pattern, text, re.M)\n",
    "l"
   ]
  },
  {
   "cell_type": "code",
   "execution_count": 13,
   "id": "8ae5d22f",
   "metadata": {},
   "outputs": [
    {
     "data": {
      "text/plain": [
       "['country', 'country']"
      ]
     },
     "execution_count": 13,
     "metadata": {},
     "output_type": "execute_result"
    }
   ],
   "source": [
    "text = '''\n",
    "we love our country Pakistan zinda bads.\n",
    "pakistan is one of the best country in the world. \n",
    "Hellow worlds\n",
    "Learn the strengths and weaknesses of ChatGPT!.\n",
    "'''\n",
    "\n",
    "pattern = r\"\\bc.*y\\b\"\n",
    "\n",
    "l = re.findall(pattern, text, re.M)\n",
    "l"
   ]
  },
  {
   "cell_type": "code",
   "execution_count": 20,
   "id": "c0ecdfdb",
   "metadata": {},
   "outputs": [
    {
     "data": {
      "text/plain": [
       "['we',\n",
       " 'love',\n",
       " 'our',\n",
       " 'country',\n",
       " 'Pakistan',\n",
       " 'zinda',\n",
       " 'bads',\n",
       " 'pakistan',\n",
       " 'is',\n",
       " 'one',\n",
       " 'of',\n",
       " 'the',\n",
       " 'best',\n",
       " 'country',\n",
       " 'in',\n",
       " 'the',\n",
       " 'world',\n",
       " 'I',\n",
       " 'am',\n",
       " 'living',\n",
       " 'in',\n",
       " 'Pakisan',\n",
       " 'Rs',\n",
       " '1221',\n",
       " 'islam',\n",
       " 'for',\n",
       " 'to',\n",
       " '201']"
      ]
     },
     "execution_count": 20,
     "metadata": {},
     "output_type": "execute_result"
    }
   ],
   "source": [
    "text = '''\n",
    "we love our country Pakistan zinda bads.\n",
    "pakistan is one of the .best country in the world. \n",
    "I am living in Pakisan\n",
    "Rs. 1221\n",
    "islam for to 201\n",
    "'''\n",
    "\n",
    "#pattern = r\"[0123456789]+\"\n",
    "#pattern = r\"[0-9]+\"\n",
    "#pattern = r\"[A-Za-z]+\"\n",
    "#pattern = r\"[A-z]+\"\n",
    "pattern = r\"[A-z0-9]+\"\n",
    "\n",
    "l = re.findall(pattern, text, re.M)\n",
    "l"
   ]
  },
  {
   "cell_type": "code",
   "execution_count": 23,
   "id": "221b461c",
   "metadata": {},
   "outputs": [
    {
     "data": {
      "text/plain": [
       "['.', '.', '.', '2.2', '254.21', '55,000.212', '.', '1221', '201']"
      ]
     },
     "execution_count": 23,
     "metadata": {},
     "output_type": "execute_result"
    }
   ],
   "source": [
    "text = '''\n",
    "we love our country Pakistan zinda bads.\n",
    "pakistan is one of the .best country in the world. \n",
    "I am living in Pakisan 2.2\n",
    "254.21\n",
    "55,000.212\n",
    "Rs. 1221\n",
    "islam for to 201\n",
    "'''\n",
    "\n",
    "\n",
    "pattern = r\"[0-9.,]+\"\n",
    "\n",
    "l = re.findall(pattern, text, re.M)\n",
    "l"
   ]
  },
  {
   "cell_type": "markdown",
   "id": "7f6861b0",
   "metadata": {},
   "source": [
    "# if you wand to apply bountry concept you have to use r before pattern\n",
    "word boundry concept\n",
    "\\b  \\b\n",
    "? optional\n",
    "\n",
    "* [0-9] = \\d\n",
    "* [a-z] = \\w"
   ]
  },
  {
   "cell_type": "markdown",
   "id": "86582541",
   "metadata": {},
   "source": [
    "# Range group of Characters"
   ]
  },
  {
   "cell_type": "code",
   "execution_count": 31,
   "id": "cb072581",
   "metadata": {},
   "outputs": [
    {
     "data": {
      "text/plain": [
       "['01-12-2023']"
      ]
     },
     "execution_count": 31,
     "metadata": {},
     "output_type": "execute_result"
    }
   ],
   "source": [
    "text = '''\n",
    "purchase date 01\\12\\2023\n",
    "purchase date 01-12-2023\n",
    "\n",
    "'''\n",
    "\n",
    "pattern = r\"[0-9]{1,2}-[0-9]{1,2}-[0-9]{2,4}\"\n",
    "\n",
    "l = re.findall(pattern, text, re.A)\n",
    "l"
   ]
  },
  {
   "cell_type": "code",
   "execution_count": 41,
   "id": "45e193fc",
   "metadata": {},
   "outputs": [
    {
     "data": {
      "text/plain": [
       "['01/12/2023', '01-12-2023', '25-05-2024', '09*08*2022']"
      ]
     },
     "execution_count": 41,
     "metadata": {},
     "output_type": "execute_result"
    }
   ],
   "source": [
    "text = '''\n",
    "purchase date 01/12/2023\n",
    "purchase date 01-12-2023\n",
    "purchase date 01\\12\\2023\n",
    "purchase date 25-05-2024\n",
    "purchase date 09*08*2022\n",
    "'''\n",
    "\n",
    "pattern = r\"\\d{1,2}[*-/\\\\]\\d{1,2}[*-/\\\\]\\d{2,4}\"\n",
    "\n",
    "l = re.findall(pattern, text)\n",
    "l"
   ]
  },
  {
   "cell_type": "code",
   "execution_count": null,
   "id": "729b6f09",
   "metadata": {},
   "outputs": [],
   "source": []
  }
 ],
 "metadata": {
  "kernelspec": {
   "display_name": "Python 3 (ipykernel)",
   "language": "python",
   "name": "python3"
  },
  "language_info": {
   "codemirror_mode": {
    "name": "ipython",
    "version": 3
   },
   "file_extension": ".py",
   "mimetype": "text/x-python",
   "name": "python",
   "nbconvert_exporter": "python",
   "pygments_lexer": "ipython3",
   "version": "3.11.4"
  }
 },
 "nbformat": 4,
 "nbformat_minor": 5
}
