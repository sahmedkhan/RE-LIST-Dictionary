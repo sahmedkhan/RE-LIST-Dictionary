{
 "cells": [
  {
   "cell_type": "markdown",
   "id": "e76e6c58",
   "metadata": {},
   "source": [
    "# List Manipulation Assignment"
   ]
  },
  {
   "cell_type": "markdown",
   "id": "0c24f3cc",
   "metadata": {},
   "source": [
    "# Basic List Operation"
   ]
  },
  {
   "cell_type": "code",
   "execution_count": 53,
   "id": "598eef44",
   "metadata": {},
   "outputs": [
    {
     "name": "stdout",
     "output_type": "stream",
     "text": [
      "Please enter name with ',' saperatorApple, Banana, Orange, Grape, Kiwi\n"
     ]
    },
    {
     "data": {
      "text/plain": [
       "['Apple', ' Banana', ' Orange', ' Grape', ' Kiwi']"
      ]
     },
     "execution_count": 53,
     "metadata": {},
     "output_type": "execute_result"
    }
   ],
   "source": [
    "names1 = input(\"Please enter name with ',' saperator\")\n",
    "\n",
    "names1.split(',')"
   ]
  },
  {
   "cell_type": "code",
   "execution_count": 77,
   "id": "c5bcc882",
   "metadata": {},
   "outputs": [
    {
     "name": "stdout",
     "output_type": "stream",
     "text": [
      "['Apple', 'Banana', 'Orange', 'Grape', 'Kiwi']\n"
     ]
    }
   ],
   "source": [
    "names1 = ['Apple', 'Banana', 'Orange', 'Grape', 'Kiwi']\n",
    "print(names1)"
   ]
  },
  {
   "cell_type": "code",
   "execution_count": 79,
   "id": "5f69dd9b",
   "metadata": {},
   "outputs": [
    {
     "name": "stdout",
     "output_type": "stream",
     "text": [
      "['Apple', 'Banana', 'Orange', 'Grape', 'Kiwi']\n",
      "['Apple', 'Banana', 'Orange', 'Grape', 'Kiwi', 'Pear']\n"
     ]
    }
   ],
   "source": [
    "print(names1)\n",
    "names1.append(\"Pear\")\n",
    "print(names1)"
   ]
  },
  {
   "cell_type": "code",
   "execution_count": 81,
   "id": "d1fae333",
   "metadata": {},
   "outputs": [
    {
     "name": "stdout",
     "output_type": "stream",
     "text": [
      "['Apple', 'Mango', 'Banana', 'Orange', 'Grape', 'Kiwi', 'Pear']\n"
     ]
    }
   ],
   "source": [
    "names1[1]\n",
    "names1.insert(1,\"Mango\")\n",
    "print(names1)"
   ]
  },
  {
   "cell_type": "code",
   "execution_count": 83,
   "id": "ec981ecb",
   "metadata": {},
   "outputs": [
    {
     "name": "stdout",
     "output_type": "stream",
     "text": [
      "['Apple', 'Banana', 'Orange', 'Grape', 'Kiwi', 'Pear']\n"
     ]
    }
   ],
   "source": [
    "del names1[1]\n",
    "print(names1)"
   ]
  },
  {
   "cell_type": "code",
   "execution_count": 86,
   "id": "daa60ce8",
   "metadata": {},
   "outputs": [
    {
     "name": "stdout",
     "output_type": "stream",
     "text": [
      "Grape\n"
     ]
    }
   ],
   "source": [
    "print(names1[3])"
   ]
  },
  {
   "cell_type": "code",
   "execution_count": 95,
   "id": "484111aa",
   "metadata": {},
   "outputs": [
    {
     "name": "stdout",
     "output_type": "stream",
     "text": [
      "['Apple', 'Banana', 'Orange', 'Kiwi', 'Pear', 'Mango', 'Mango']\n",
      "['Apple', 'Banana', 'Kiwi', 'Pear', 'Mango', 'Mango']\n"
     ]
    }
   ],
   "source": [
    "print(names1)\n",
    "del names1[2]\n",
    "print(names1)"
   ]
  },
  {
   "cell_type": "markdown",
   "id": "be5954cd",
   "metadata": {},
   "source": [
    "# Slicing and indexing"
   ]
  },
  {
   "cell_type": "code",
   "execution_count": 96,
   "id": "227ed618",
   "metadata": {},
   "outputs": [
    {
     "name": "stdout",
     "output_type": "stream",
     "text": [
      "[0, 1, 2, 3, 4, 5, 6, 7, 8, 9]\n"
     ]
    }
   ],
   "source": [
    "numbers = [0,1,2,3,4,5,6,7,8,9]\n",
    "print(numbers)"
   ]
  },
  {
   "cell_type": "code",
   "execution_count": 98,
   "id": "cb1e36b8",
   "metadata": {},
   "outputs": [
    {
     "name": "stdout",
     "output_type": "stream",
     "text": [
      "3\n"
     ]
    }
   ],
   "source": [
    "print(numbers[3])"
   ]
  },
  {
   "cell_type": "code",
   "execution_count": 100,
   "id": "1db7d617",
   "metadata": {},
   "outputs": [
    {
     "name": "stdout",
     "output_type": "stream",
     "text": [
      "[3, 4, 5]\n"
     ]
    }
   ],
   "source": [
    "print(numbers[3:6])"
   ]
  },
  {
   "cell_type": "code",
   "execution_count": 104,
   "id": "db5d9a58",
   "metadata": {},
   "outputs": [
    {
     "name": "stdout",
     "output_type": "stream",
     "text": [
      "[6, 7, 8]\n"
     ]
    }
   ],
   "source": [
    "print(numbers[-4:-1])"
   ]
  },
  {
   "cell_type": "markdown",
   "id": "614273e2",
   "metadata": {},
   "source": [
    "# List Comprehension"
   ]
  },
  {
   "cell_type": "code",
   "execution_count": 105,
   "id": "1078dd4c",
   "metadata": {},
   "outputs": [
    {
     "name": "stdout",
     "output_type": "stream",
     "text": [
      "[1, 4, 9, 16, 25, 36, 49, 64, 81]\n"
     ]
    }
   ],
   "source": [
    "squares = [x ** 2 for x in range(1, 10)]\n",
    "print(squares)"
   ]
  },
  {
   "cell_type": "code",
   "execution_count": 108,
   "id": "0c60db9a",
   "metadata": {},
   "outputs": [
    {
     "name": "stdout",
     "output_type": "stream",
     "text": [
      "[4, 16, 36, 64]\n"
     ]
    }
   ],
   "source": [
    "x=squares\n",
    "even_squares = [x for x in squares if x % 2 == 0]\n",
    "print(even_squares)"
   ]
  },
  {
   "cell_type": "markdown",
   "id": "3fccd5d1",
   "metadata": {},
   "source": [
    "# List Manipulation"
   ]
  },
  {
   "cell_type": "code",
   "execution_count": null,
   "id": "a0c9aad2",
   "metadata": {},
   "outputs": [],
   "source": [
    "colors = ['red','green','blue','yellow','purple']"
   ]
  },
  {
   "cell_type": "code",
   "execution_count": 109,
   "id": "cd882d7f",
   "metadata": {},
   "outputs": [
    {
     "name": "stdout",
     "output_type": "stream",
     "text": [
      "['yellow', 'yellow', 'blue', 'red']\n"
     ]
    }
   ],
   "source": [
    "colors = ['red', 'yellow', 'blue', 'yellow']\n",
    "colors[0], colors[-1] = colors[-1], colors[0]\n",
    "print(colors)"
   ]
  },
  {
   "cell_type": "code",
   "execution_count": 110,
   "id": "41e562a3",
   "metadata": {},
   "outputs": [
    {
     "name": "stdout",
     "output_type": "stream",
     "text": [
      "['red', 'blue', 'yellow', 'yellow']\n"
     ]
    }
   ],
   "source": [
    "colors.reverse()\n",
    "print(colors)"
   ]
  },
  {
   "cell_type": "markdown",
   "id": "817538ea",
   "metadata": {},
   "source": [
    "# Advance Slicing"
   ]
  },
  {
   "cell_type": "code",
   "execution_count": null,
   "id": "ccded6ce",
   "metadata": {},
   "outputs": [],
   "source": [
    "letters = [a,b,c,d,e,f,g,h,i,j]"
   ]
  },
  {
   "cell_type": "code",
   "execution_count": 111,
   "id": "17422687",
   "metadata": {},
   "outputs": [
    {
     "name": "stdout",
     "output_type": "stream",
     "text": [
      "['a', 'b', 'c', 'd', 'e']\n"
     ]
    }
   ],
   "source": [
    "letters = ['a', 'b', 'c', 'd', 'e', 'f', 'g', 'h', 'i', 'j']\n",
    "first_half = letters[:len(letters)//2]\n",
    "print(first_half)"
   ]
  },
  {
   "cell_type": "code",
   "execution_count": 112,
   "id": "54d7e30b",
   "metadata": {},
   "outputs": [
    {
     "name": "stdout",
     "output_type": "stream",
     "text": [
      "['h', 'i', 'j']\n"
     ]
    }
   ],
   "source": [
    "last_three = letters[-3:]\n",
    "print(last_three)"
   ]
  },
  {
   "cell_type": "markdown",
   "id": "ed18f780",
   "metadata": {},
   "source": [
    "# Nested Lists"
   ]
  },
  {
   "cell_type": "code",
   "execution_count": 113,
   "id": "528abbec",
   "metadata": {},
   "outputs": [
    {
     "name": "stdout",
     "output_type": "stream",
     "text": [
      "[1, 2, 3]\n",
      "[4, 5, 6]\n",
      "[7, 8, 9]\n"
     ]
    }
   ],
   "source": [
    "matrix = [[1, 2, 3],[4, 5, 6],[7, 8, 9]]\n",
    "for row in matrix:\n",
    "    print(row)"
   ]
  },
  {
   "cell_type": "code",
   "execution_count": 114,
   "id": "1e620843",
   "metadata": {},
   "outputs": [
    {
     "name": "stdout",
     "output_type": "stream",
     "text": [
      "6\n"
     ]
    }
   ],
   "source": [
    "matrix = matrix[1][2]\n",
    "print(matrix)"
   ]
  },
  {
   "cell_type": "code",
   "execution_count": 118,
   "id": "aee6217f",
   "metadata": {},
   "outputs": [
    {
     "name": "stdout",
     "output_type": "stream",
     "text": [
      "[1, 2, 3]\n",
      "[10, 5, 6]\n",
      "[7, 8, 9]\n"
     ]
    }
   ],
   "source": [
    "matrix = [[1, 2, 3],[4, 5, 6],[7, 8, 9]]\n",
    "new_value = 10  \n",
    "matrix[1][0] = new_value\n",
    "\n",
    "for row in matrix:\n",
    "    print(row)\n",
    "\n"
   ]
  },
  {
   "cell_type": "code",
   "execution_count": null,
   "id": "8da22ac4",
   "metadata": {},
   "outputs": [],
   "source": []
  }
 ],
 "metadata": {
  "kernelspec": {
   "display_name": "Python 3 (ipykernel)",
   "language": "python",
   "name": "python3"
  },
  "language_info": {
   "codemirror_mode": {
    "name": "ipython",
    "version": 3
   },
   "file_extension": ".py",
   "mimetype": "text/x-python",
   "name": "python",
   "nbconvert_exporter": "python",
   "pygments_lexer": "ipython3",
   "version": "3.11.3"
  }
 },
 "nbformat": 4,
 "nbformat_minor": 5
}
