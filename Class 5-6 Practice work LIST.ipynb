{
 "cells": [
  {
   "cell_type": "code",
   "execution_count": 1,
   "id": "f2a9314d",
   "metadata": {},
   "outputs": [
    {
     "name": "stdout",
     "output_type": "stream",
     "text": [
      "Shafaat Ahmed\n",
      "Asad Shakil\n",
      "Shahzad\n",
      "Adnan Siddiqui\n",
      "Noman Farooqi\n"
     ]
    }
   ],
   "source": [
    "s1_name = \"Shafaat Ahmed\"\n",
    "s2_name = \"Asad Shakil\"\n",
    "s3_name = \"Shahzad\"\n",
    "s4_name = \"Adnan Siddiqui\"\n",
    "s5_name = \"Noman Farooqi\"\n",
    "\n",
    "print(s1_name)\n",
    "print(s2_name)\n",
    "print(s3_name)\n",
    "print(s4_name)\n",
    "print(s5_name)"
   ]
  },
  {
   "cell_type": "markdown",
   "id": "39e86aff",
   "metadata": {},
   "source": [
    "# List Data types\n",
    "Hetrogenous data type\n",
    "Dynamic Length\n",
    "Dynamic memory managment\n",
    "\n",
    "Syntax\n",
    "\n",
    "[element,1, element2, element3...]\n"
   ]
  },
  {
   "cell_type": "code",
   "execution_count": 1,
   "id": "22428f8b",
   "metadata": {},
   "outputs": [
    {
     "data": {
      "text/plain": [
       "['Shafaat Ahmed', 'Asad Shakil', 'shahzad', 'adnan Siddiqui', 'Noman Farooqi']"
      ]
     },
     "execution_count": 1,
     "metadata": {},
     "output_type": "execute_result"
    }
   ],
   "source": [
    "names = [\"Shafaat Ahmed\", \"Asad Shakil\", \"shahzad\", \"adnan Siddiqui\", \"Noman Farooqi\"]\n",
    "names"
   ]
  },
  {
   "cell_type": "code",
   "execution_count": null,
   "id": "e2620d47",
   "metadata": {},
   "outputs": [],
   "source": [
    "# ->            0               1            2            3                4\n",
    "names = [\"Shafaat Ahmed\", \"Asad Shakil\", \"shahzad\", \"adnan Siddiqui\", \"Noman Farooqi\"]\n",
    "# >-            -5               -4           -3           -2              -1"
   ]
  },
  {
   "cell_type": "markdown",
   "id": "2f986e27",
   "metadata": {},
   "source": [
    "# Extract value from interactive data type with index position\n",
    "Syntex list_variable[index_number]"
   ]
  },
  {
   "cell_type": "code",
   "execution_count": 2,
   "id": "94c2f345",
   "metadata": {},
   "outputs": [
    {
     "name": "stdout",
     "output_type": "stream",
     "text": [
      "Please enter name with ',' saperatorsaleem, faheem, imaran, kamran, noman, farhan\n"
     ]
    },
    {
     "data": {
      "text/plain": [
       "['saleem', ' faheem', ' imaran', ' kamran', ' noman', ' farhan']"
      ]
     },
     "execution_count": 2,
     "metadata": {},
     "output_type": "execute_result"
    }
   ],
   "source": [
    "names1 = input(\"Please enter name with ',' saperator\")\n",
    "\n",
    "names1.split(',')"
   ]
  },
  {
   "cell_type": "code",
   "execution_count": 4,
   "id": "aeea5d34",
   "metadata": {},
   "outputs": [
    {
     "name": "stdout",
     "output_type": "stream",
     "text": [
      "Asad Shakil\n",
      "Asad Shakil\n"
     ]
    }
   ],
   "source": [
    "# ->            0               1            2            3                4\n",
    "names = [\"Shafaat Ahmed\", \"Asad Shakil\", \"shahzad\", \"adnan Siddiqui\", \"Noman Farooqi\"]\n",
    "# >-            -5               -4           -3           -2              -1\n",
    "\n",
    "print(names[1])\n",
    "print(names[-4])"
   ]
  },
  {
   "cell_type": "code",
   "execution_count": 5,
   "id": "c4bd1654",
   "metadata": {},
   "outputs": [
    {
     "data": {
      "text/plain": [
       "[2, 3, 5, 7, -3]"
      ]
     },
     "execution_count": 5,
     "metadata": {},
     "output_type": "execute_result"
    }
   ],
   "source": [
    "a = [2,3,5,7,-3]\n",
    "a"
   ]
  },
  {
   "cell_type": "code",
   "execution_count": 7,
   "id": "ec059082",
   "metadata": {},
   "outputs": [
    {
     "data": {
      "text/plain": [
       "[2, 3, 5, 7, -3, -6, -6, 'HELLO']"
      ]
     },
     "execution_count": 7,
     "metadata": {},
     "output_type": "execute_result"
    }
   ],
   "source": [
    "a.append(-6)\n",
    "a.append(\"HELLO\")\n",
    "a"
   ]
  },
  {
   "cell_type": "markdown",
   "id": "20664a2b",
   "metadata": {},
   "source": [
    "# Slicing on list\n",
    "Syntex ''' list_variable[start:end:step]\n",
    "start - this number will included \n",
    "end - excluded end-1\n",
    "step - sequence/gap"
   ]
  },
  {
   "cell_type": "code",
   "execution_count": 8,
   "id": "ecc0978f",
   "metadata": {},
   "outputs": [
    {
     "data": {
      "text/plain": [
       "[2, 3, 5, 7, -3, -6, -6]"
      ]
     },
     "execution_count": 8,
     "metadata": {},
     "output_type": "execute_result"
    }
   ],
   "source": [
    "a.pop()\n",
    "a"
   ]
  },
  {
   "cell_type": "code",
   "execution_count": 10,
   "id": "9f67e9f2",
   "metadata": {},
   "outputs": [
    {
     "name": "stdout",
     "output_type": "stream",
     "text": [
      "7\n",
      "3\n"
     ]
    }
   ],
   "source": [
    "print(a[3])\n",
    "print(a[-6])\n"
   ]
  },
  {
   "cell_type": "code",
   "execution_count": 11,
   "id": "9ff50b91",
   "metadata": {},
   "outputs": [
    {
     "data": {
      "text/plain": [
       "['Desktop', 'Laptop', 'Printer']"
      ]
     },
     "execution_count": 11,
     "metadata": {},
     "output_type": "execute_result"
    }
   ],
   "source": [
    "b = [\"Desktop\",\"Laptop\",\"Printer\"]\n",
    "b"
   ]
  },
  {
   "cell_type": "code",
   "execution_count": 14,
   "id": "ca401350",
   "metadata": {},
   "outputs": [
    {
     "data": {
      "text/plain": [
       "['Desktop', 'Printer', 'Desktop']"
      ]
     },
     "execution_count": 14,
     "metadata": {},
     "output_type": "execute_result"
    }
   ],
   "source": [
    "temp = b[0]\n",
    "b[0] = b[2]\n",
    "b[2] = temp\n",
    "\n",
    "b\n"
   ]
  },
  {
   "cell_type": "code",
   "execution_count": 26,
   "id": "6c489cef",
   "metadata": {},
   "outputs": [
    {
     "data": {
      "text/plain": [
       "[0, 1, 2, 3, 4, 5, 6, 7, 8, 9, -1, -2]"
      ]
     },
     "execution_count": 26,
     "metadata": {},
     "output_type": "execute_result"
    }
   ],
   "source": [
    "c = [0,1,2,3,4,5,6,7,8,9,-1,-2]\n",
    "c"
   ]
  },
  {
   "cell_type": "code",
   "execution_count": 3,
   "id": "fa15a6c5",
   "metadata": {},
   "outputs": [
    {
     "name": "stdout",
     "output_type": "stream",
     "text": [
      "[0, 1, 2, 3, 4, 5, 6, 7, 8, 9, -1, -2]\n",
      "[1, 2, 3, 4, 5, 6, 7, 8]\n",
      "[0, 1, 2, 3, 4]\n",
      "[7, 8, 9, -1]\n",
      "[3, 5, 7]\n",
      "[3, 4]\n"
     ]
    }
   ],
   "source": [
    "c = [0,1,2,3,4,5,6,7,8,9,-1,-2]\n",
    "print(c[::])\n",
    "print(c[1:-3:])\n",
    "print(c[0:5:])\n",
    "print(c[-5:-1:])\n",
    "print(c[3:8:2])\n",
    "print(c[3:5:])"
   ]
  },
  {
   "cell_type": "code",
   "execution_count": 30,
   "id": "7ff812da",
   "metadata": {},
   "outputs": [
    {
     "name": "stdout",
     "output_type": "stream",
     "text": [
      "Please enter name with ',' saperator1,2,5,8,9,2,1,3,7,0\n"
     ]
    },
    {
     "data": {
      "text/plain": [
       "['1', '2', '5', '8', '9', '2', '1', '3', '7', '0']"
      ]
     },
     "execution_count": 30,
     "metadata": {},
     "output_type": "execute_result"
    }
   ],
   "source": [
    "names1 = input(\"Please enter name with ',' saperator\")\n",
    "\n",
    "names1.split(',')"
   ]
  },
  {
   "cell_type": "code",
   "execution_count": 9,
   "id": "e4d914af",
   "metadata": {},
   "outputs": [
    {
     "name": "stdout",
     "output_type": "stream",
     "text": [
      "['a', 'b', 'c', 'd', 'e', 'f', 'g', 'h', 'i', 'j', 'k', 'l', 'm', 'n', 'o', 'p', 'u', 'r', 's', 't', 'u', 'v', 'w', 'x', 'y', 'z']\n",
      "a\n",
      "b\n",
      "c\n",
      "d\n",
      "e\n",
      "f\n",
      "g\n",
      "h\n",
      "i\n",
      "j\n",
      "k\n",
      "l\n",
      "m\n",
      "n\n",
      "o\n",
      "p\n",
      "u\n",
      "r\n",
      "s\n",
      "t\n",
      "u\n",
      "v\n",
      "w\n",
      "x\n",
      "y\n",
      "z\n"
     ]
    }
   ],
   "source": [
    "character = list(\"abcdefghijklmnopurstuvwxyz\")\n",
    "print(character)\n",
    "\n",
    "counter = 0\n",
    "\n",
    "while(counter < len(character)):\n",
    "    print(character[counter])\n",
    "    counter += 1\n"
   ]
  },
  {
   "cell_type": "code",
   "execution_count": 6,
   "id": "52a50f54",
   "metadata": {},
   "outputs": [
    {
     "name": "stdout",
     "output_type": "stream",
     "text": [
      "['a', 'b', 'c', 'd', 'e', 'f', 'g', 'h', 'i', 'j', 'k', 'l', 'm', 'n', 'o', 'p', 'q', 'r', 's', 't', 'u', 'v', 'w', 'x', 'y', 'z']\n",
      "a\n",
      "b\n",
      "c\n",
      "d\n",
      "e\n",
      "f\n",
      "g\n",
      "h\n",
      "i\n",
      "j\n",
      "k\n",
      "l\n",
      "m\n",
      "n\n",
      "o\n",
      "p\n",
      "q\n",
      "r\n",
      "s\n",
      "t\n",
      "u\n",
      "v\n",
      "w\n",
      "x\n",
      "y\n",
      "z\n"
     ]
    }
   ],
   "source": [
    "characters = list(\"abcdefghijklmnopqrstuvwxyz\")\n",
    "print(characters)\n",
    "\n",
    "counter = 0\n",
    "\n",
    "while(counter <len(characters)):\n",
    "    print(characters[counter])\n",
    "    counter += 1"
   ]
  },
  {
   "cell_type": "code",
   "execution_count": 20,
   "id": "b487cec5",
   "metadata": {},
   "outputs": [
    {
     "name": "stdout",
     "output_type": "stream",
     "text": [
      "[0, 1, 2, 3, 4, 5, 6, 7, 8, 9, 10, 11, 12, 13, 14, 15, 16]\n",
      "[0, 1, 2, 3, 4, 5, 6, 7, 8, 9, 10, 11, 12, 13, 14, 15, 16]\n",
      "[2, 3, 4, 5, 6, 7, 8, 9, 10, 11, 12, 13, 14, 15, 16]\n",
      "[2, 3, 4, 5, 6, 7, 8, 9, 10, 11, 12, 13, 14, 15, 16]\n",
      "[2, 3, 4, 5, 6, 7, 8, 9, 10, 11, 12, 13, 14, 15, 16]\n",
      "1\n",
      "[3, 4, 5, 6, 7, 8]\n",
      "[0, 3, 6, 9, 12]\n",
      "[10, 11, 12, 13, 14, 15, 16]\n"
     ]
    }
   ],
   "source": [
    "a = list(range(0,17))\n",
    "print(a)\n",
    "print(a[::])\n",
    "print(a[2:])\n",
    "print(a[2:17])\n",
    "print(a[2:17:])\n",
    "print(a[1])\n",
    "print(a[3:9])\n",
    "print(a[0:15:3])\n",
    "\n",
    "print(a[-7:])"
   ]
  },
  {
   "cell_type": "code",
   "execution_count": 24,
   "id": "1a37f54e",
   "metadata": {},
   "outputs": [
    {
     "name": "stdout",
     "output_type": "stream",
     "text": [
      "[0, 1, 2, 3, 4, 5, 6, 7, 8, 9, 10, 11, 12, 13, 14, 15, 16]\n",
      "[0, 1, 2, 3, 4, 5, 6, 7, 8, 9, 10, 11, 12, 13, 14, 15]\n",
      "[16, 15, 14, 13, 12, 11, 10, 9, 8, 7, 6, 5, 4, 3, 2, 1, 0]\n",
      "[15, 14, 13, 12]\n"
     ]
    }
   ],
   "source": [
    "a = list(range(0,17))\n",
    "print(a)\n",
    "\n",
    "print(a[:-1])\n",
    "print(a[::-1])\n",
    "print(a[-2:-6:-1])"
   ]
  },
  {
   "cell_type": "code",
   "execution_count": 28,
   "id": "b4201b04",
   "metadata": {},
   "outputs": [
    {
     "data": {
      "text/plain": [
       "[[1, 2, 3, 4, 5, 6, 7, 8, 9, 10],\n",
       " [11, 12, 13, 14, 15, 16, 17, 18, 19, 20],\n",
       " [21, 22, 23, 24, 25, 26, 27, 28, 29, 30],\n",
       " [31, 32, 33, 34, 35, 36, 37, 38, 39, 40],\n",
       " [41, 42, 43, 44, 45, 46, 47, 48, 49, 50],\n",
       " [51, 52, 53, 54, 55, 56, 57, 58, 59, 60],\n",
       " [61, 62, 63, 64, 65, 66, 67, 68, 69, 70],\n",
       " [71, 72, 73, 74, 75, 76, 77, 78, 79, 80],\n",
       " [81, 82, 83, 84, 85, 86, 87, 88, 89, 90],\n",
       " [91, 92, 93, 94, 95, 96, 97, 98, 99, 100]]"
      ]
     },
     "execution_count": 28,
     "metadata": {},
     "output_type": "execute_result"
    }
   ],
   "source": [
    "import numpy as np\n",
    "\n",
    "a = np.arange(1,101).reshape(10,10).tolist()\n",
    "a"
   ]
  },
  {
   "cell_type": "code",
   "execution_count": 29,
   "id": "58eb7e44",
   "metadata": {},
   "outputs": [
    {
     "data": {
      "text/plain": [
       "[[1, 2, 3, 4, 5, 6, 7, 8, 9, 10],\n",
       " [11, 12, 13, 14, 15, 16, 17, 18, 19, 20],\n",
       " [21, 22, 23, 24, 25, 26, 27, 28, 29, 30],\n",
       " [31, 32, 33, 34, 35, 36, 37, 38, 39, 40],\n",
       " [41, 42, 43, 44, 45, 46, 47, 48, 49, 50],\n",
       " [51, 52, 53, 54, 55, 56, 57, 58, 59, 60],\n",
       " [61, 62, 63, 64, 65, 66, 67, 68, 69, 70],\n",
       " [71, 72, 73, 74, 75, 76, 77, 78, 79, 80],\n",
       " [81, 82, 83, 84, 85, 86, 87, 88, 89, 90],\n",
       " [91, 92, 93, 94, 95, 96, 97, 98, 99, 100]]"
      ]
     },
     "metadata": {},
     "output_type": "display_data"
    }
   ],
   "source": [
    "display(a)"
   ]
  },
  {
   "cell_type": "code",
   "execution_count": 4,
   "id": "6f7f1de0",
   "metadata": {},
   "outputs": [
    {
     "data": {
      "text/plain": [
       "['append',\n",
       " 'clear',\n",
       " 'copy',\n",
       " 'count',\n",
       " 'extend',\n",
       " 'index',\n",
       " 'insert',\n",
       " 'pop',\n",
       " 'remove',\n",
       " 'reverse',\n",
       " 'sort']"
      ]
     },
     "execution_count": 4,
     "metadata": {},
     "output_type": "execute_result"
    }
   ],
   "source": [
    "[i for i in dir(a) if \"__\" not in i]"
   ]
  },
  {
   "cell_type": "code",
   "execution_count": 39,
   "id": "87eedc9a",
   "metadata": {},
   "outputs": [
    {
     "name": "stdout",
     "output_type": "stream",
     "text": [
      "[]\n",
      "['Shafaat']\n",
      "['Shafaat', 'Kamran']\n"
     ]
    }
   ],
   "source": [
    "names = []\n",
    "print(names)\n",
    "names.append(\"Shafaat\")\n",
    "print(names)\n",
    "names.append(\"Kamran\")\n",
    "print(names)"
   ]
  },
  {
   "cell_type": "markdown",
   "id": "911de1f3",
   "metadata": {},
   "source": [
    "# End Extra Code"
   ]
  },
  {
   "cell_type": "code",
   "execution_count": 2,
   "id": "217d0eb3",
   "metadata": {},
   "outputs": [
    {
     "data": {
      "text/plain": [
       "[1, 2, 3, 4, 5, 6, 7, 8, 9, 10]"
      ]
     },
     "execution_count": 2,
     "metadata": {},
     "output_type": "execute_result"
    }
   ],
   "source": [
    "a = list(range(1,11))\n",
    "a"
   ]
  },
  {
   "cell_type": "code",
   "execution_count": 5,
   "id": "7b6d75c3",
   "metadata": {},
   "outputs": [
    {
     "data": {
      "text/plain": [
       "['append',\n",
       " 'clear',\n",
       " 'copy',\n",
       " 'count',\n",
       " 'extend',\n",
       " 'index',\n",
       " 'insert',\n",
       " 'pop',\n",
       " 'remove',\n",
       " 'reverse',\n",
       " 'sort']"
      ]
     },
     "execution_count": 5,
     "metadata": {},
     "output_type": "execute_result"
    }
   ],
   "source": [
    "[i for i in dir(a) if \"__\" not in i]"
   ]
  },
  {
   "cell_type": "code",
   "execution_count": 6,
   "id": "fd6d0f4f",
   "metadata": {},
   "outputs": [
    {
     "name": "stdout",
     "output_type": "stream",
     "text": [
      "a\n",
      "b\n",
      "c\n",
      "d\n",
      "e\n",
      "f\n"
     ]
    }
   ],
   "source": [
    "for i in \"abcdef\":\n",
    "    print(i)"
   ]
  },
  {
   "cell_type": "code",
   "execution_count": 7,
   "id": "e2b0c4a4",
   "metadata": {},
   "outputs": [
    {
     "name": "stdout",
     "output_type": "stream",
     "text": [
      "shafaat\n",
      "Kamran\n",
      "Noman\n",
      "Saleem\n"
     ]
    }
   ],
   "source": [
    "for i in [\"shafaat\", \"Kamran\",\"Noman\",\"Saleem\"]:\n",
    "    print(i)"
   ]
  },
  {
   "cell_type": "code",
   "execution_count": 8,
   "id": "1ac9331b",
   "metadata": {},
   "outputs": [
    {
     "data": {
      "text/plain": [
       "['a', 'b', 'c', 'd', 'e', 'f']"
      ]
     },
     "execution_count": 8,
     "metadata": {},
     "output_type": "execute_result"
    }
   ],
   "source": [
    "[i for i in \"abcdef\"] #comprehancive statement\n"
   ]
  },
  {
   "cell_type": "code",
   "execution_count": 5,
   "id": "73ddf689",
   "metadata": {},
   "outputs": [
    {
     "name": "stdout",
     "output_type": "stream",
     "text": [
      "[]\n",
      "['Shafaat']\n",
      "['Shafaat', 'Kamran']\n",
      "['Shafaat', 'Kamran', 'sulaman']\n"
     ]
    }
   ],
   "source": [
    "names = []\n",
    "print(names)\n",
    "names.append(\"Shafaat\")\n",
    "print(names)\n",
    "names.append(\"Kamran\")\n",
    "print(names)\n",
    "names.append(\"sulaman\")\n",
    "print(names)"
   ]
  },
  {
   "cell_type": "code",
   "execution_count": 16,
   "id": "f4a9abb1",
   "metadata": {},
   "outputs": [
    {
     "name": "stdout",
     "output_type": "stream",
     "text": [
      "Enter student Name | x for exit hammad\n",
      "Enter student Name | x for exit farhan\n",
      "Enter student Name | x for exit nadia\n",
      "Enter student Name | x for exit x\n"
     ]
    },
    {
     "data": {
      "text/plain": [
       "['Shafaat', 'Kamran', 'sulaman', 'pakistan', 'hammad', 'farhan', 'nadia']"
      ]
     },
     "execution_count": 16,
     "metadata": {},
     "output_type": "execute_result"
    }
   ],
   "source": [
    "while True:\n",
    "    names1 = input(\"Enter student Name | x for exit \")\n",
    "    if names1 == \"X\" or names1 == \"x\" :\n",
    "        break\n",
    "    names.append(names1)\n",
    "        \n",
    "names"
   ]
  },
  {
   "cell_type": "code",
   "execution_count": 6,
   "id": "2647bb78",
   "metadata": {},
   "outputs": [
    {
     "data": {
      "text/plain": [
       "['Shafaat', 'Kamran', 'sulaman']"
      ]
     },
     "execution_count": 6,
     "metadata": {},
     "output_type": "execute_result"
    }
   ],
   "source": [
    "cp_name = names #shallow copy\n",
    "cp_name"
   ]
  },
  {
   "cell_type": "code",
   "execution_count": 19,
   "id": "19bda015",
   "metadata": {},
   "outputs": [
    {
     "data": {
      "text/plain": [
       "['Shafaat', 'HUMA SAEED', 'sulaman', 'pakistan', 'hammad', 'farhan', 'nadia']"
      ]
     },
     "execution_count": 19,
     "metadata": {},
     "output_type": "execute_result"
    }
   ],
   "source": [
    "cp_name = names.copy() #deep copy\n",
    "cp_name\n",
    "\n",
    "cp_name[1] = \"HUMA SAEED\"\n",
    "cp_name"
   ]
  },
  {
   "cell_type": "code",
   "execution_count": 8,
   "id": "3c824e87",
   "metadata": {},
   "outputs": [
    {
     "name": "stdout",
     "output_type": "stream",
     "text": [
      "['Shafaat', 'Kamran', 'sulaman']\n",
      "['Shafaat', 'Kamran', 'sulaman']\n"
     ]
    },
    {
     "data": {
      "text/plain": [
       "['Shafaat', 'Kamran', 'FARMAN SAEED']"
      ]
     },
     "execution_count": 8,
     "metadata": {},
     "output_type": "execute_result"
    }
   ],
   "source": [
    "print(names)\n",
    "n = names [ : ]\n",
    "n[2] = \"FARMAN SAEED\"\n",
    "\n",
    "print(names)\n",
    "n"
   ]
  },
  {
   "cell_type": "code",
   "execution_count": 9,
   "id": "7c61fb36",
   "metadata": {},
   "outputs": [
    {
     "data": {
      "text/plain": [
       "1"
      ]
     },
     "execution_count": 9,
     "metadata": {},
     "output_type": "execute_result"
    }
   ],
   "source": [
    "names.count(\"Kamran\")"
   ]
  },
  {
   "cell_type": "code",
   "execution_count": 10,
   "id": "75055269",
   "metadata": {},
   "outputs": [
    {
     "data": {
      "text/plain": [
       "['Shafaat', 'Kamran', 'sulaman', 'Aysha']"
      ]
     },
     "execution_count": 10,
     "metadata": {},
     "output_type": "execute_result"
    }
   ],
   "source": [
    "names.append(\"Aysha\")\n",
    "names"
   ]
  },
  {
   "cell_type": "code",
   "execution_count": 11,
   "id": "a751825c",
   "metadata": {},
   "outputs": [
    {
     "data": {
      "text/plain": [
       "['Shafaat', 'Kamran', 'sulaman', 'Aysha', [1, 2, 3, 4, 5, 6]]"
      ]
     },
     "execution_count": 11,
     "metadata": {},
     "output_type": "execute_result"
    }
   ],
   "source": [
    "names.append([1,2,3,4,5,6])\n",
    "names"
   ]
  },
  {
   "cell_type": "code",
   "execution_count": 13,
   "id": "11f47f4b",
   "metadata": {},
   "outputs": [
    {
     "data": {
      "text/plain": [
       "'233,345,787,788'"
      ]
     },
     "execution_count": 13,
     "metadata": {},
     "output_type": "execute_result"
    }
   ],
   "source": [
    "extra_names=(\"233,345,787,788\")\n",
    "extra_names"
   ]
  },
  {
   "cell_type": "code",
   "execution_count": 16,
   "id": "7ab70aac",
   "metadata": {},
   "outputs": [
    {
     "data": {
      "text/plain": [
       "['Shafaat',\n",
       " 'Kamran',\n",
       " 'sulaman',\n",
       " 'Aysha',\n",
       " [1, 2, 3, 4, 5, 6],\n",
       " '2',\n",
       " '3',\n",
       " '3',\n",
       " ',',\n",
       " '3',\n",
       " '4',\n",
       " '5',\n",
       " ',',\n",
       " '7',\n",
       " '8',\n",
       " '7',\n",
       " ',',\n",
       " '7',\n",
       " '8',\n",
       " '8']"
      ]
     },
     "execution_count": 16,
     "metadata": {},
     "output_type": "execute_result"
    }
   ],
   "source": [
    "names.extend(extra_names)\n",
    "names"
   ]
  },
  {
   "cell_type": "code",
   "execution_count": 17,
   "id": "f7cf9403",
   "metadata": {},
   "outputs": [
    {
     "data": {
      "text/plain": [
       "6"
      ]
     },
     "execution_count": 17,
     "metadata": {},
     "output_type": "execute_result"
    }
   ],
   "source": [
    "names.index(\"3\")"
   ]
  },
  {
   "cell_type": "code",
   "execution_count": 18,
   "id": "f2aa0d24",
   "metadata": {},
   "outputs": [
    {
     "data": {
      "text/plain": [
       "['Shafaat',\n",
       " 'Kamran',\n",
       " 'Farrukh',\n",
       " 'sulaman',\n",
       " 'Aysha',\n",
       " [1, 2, 3, 4, 5, 6],\n",
       " '2',\n",
       " '3',\n",
       " '3',\n",
       " ',',\n",
       " '3',\n",
       " '4',\n",
       " '5',\n",
       " ',',\n",
       " '7',\n",
       " '8',\n",
       " '7',\n",
       " ',',\n",
       " '7',\n",
       " '8',\n",
       " '8']"
      ]
     },
     "execution_count": 18,
     "metadata": {},
     "output_type": "execute_result"
    }
   ],
   "source": [
    "names.insert(2,\"Farrukh\")\n",
    "names"
   ]
  },
  {
   "cell_type": "code",
   "execution_count": 22,
   "id": "10847846",
   "metadata": {},
   "outputs": [
    {
     "data": {
      "text/plain": [
       "['Shafaat',\n",
       " 'Kamran',\n",
       " 'Farrukh',\n",
       " 'sulaman',\n",
       " 'Aysha',\n",
       " [1, 2, 3, 4, 5, 6],\n",
       " '3',\n",
       " '3',\n",
       " ',',\n",
       " '3',\n",
       " '4',\n",
       " '5',\n",
       " ',',\n",
       " '7',\n",
       " '8',\n",
       " '7',\n",
       " ',',\n",
       " '7',\n",
       " '8',\n",
       " '8']"
      ]
     },
     "execution_count": 22,
     "metadata": {},
     "output_type": "execute_result"
    }
   ],
   "source": [
    "del names[6]\n",
    "names"
   ]
  },
  {
   "cell_type": "code",
   "execution_count": 23,
   "id": "0a72fe1c",
   "metadata": {},
   "outputs": [
    {
     "name": "stdout",
     "output_type": "stream",
     "text": [
      "sulaman\n",
      "['Shafaat', 'Kamran', 'Farrukh', 'Aysha', [1, 2, 3, 4, 5, 6], '3', '3', ',', '3', '4', '5', ',', '7', '8', '7', ',', '7', '8', '8']\n"
     ]
    }
   ],
   "source": [
    "c = names.pop(3)\n",
    "print(c)\n",
    "print(names)"
   ]
  },
  {
   "cell_type": "code",
   "execution_count": 25,
   "id": "3bd4c378",
   "metadata": {},
   "outputs": [
    {
     "data": {
      "text/plain": [
       "['Shafaat',\n",
       " 'Kamran',\n",
       " 'Farrukh',\n",
       " 'Aysha',\n",
       " [1, 2, 3, 4, 5, 6],\n",
       " '3',\n",
       " '3',\n",
       " ',',\n",
       " '3',\n",
       " '4',\n",
       " '5',\n",
       " ',',\n",
       " '8',\n",
       " '7',\n",
       " ',',\n",
       " '7',\n",
       " '8',\n",
       " '8']"
      ]
     },
     "execution_count": 25,
     "metadata": {},
     "output_type": "execute_result"
    }
   ],
   "source": [
    "names.remove(\"7\")\n",
    "names"
   ]
  },
  {
   "cell_type": "code",
   "execution_count": 26,
   "id": "6e10d8f1",
   "metadata": {},
   "outputs": [
    {
     "data": {
      "text/plain": [
       "['8',\n",
       " '8',\n",
       " '7',\n",
       " ',',\n",
       " '7',\n",
       " '8',\n",
       " ',',\n",
       " '5',\n",
       " '4',\n",
       " '3',\n",
       " ',',\n",
       " '3',\n",
       " '3',\n",
       " [1, 2, 3, 4, 5, 6],\n",
       " 'Aysha',\n",
       " 'Farrukh',\n",
       " 'Kamran',\n",
       " 'Shafaat']"
      ]
     },
     "execution_count": 26,
     "metadata": {},
     "output_type": "execute_result"
    }
   ],
   "source": [
    "names.reverse()\n",
    "names"
   ]
  },
  {
   "cell_type": "code",
   "execution_count": null,
   "id": "17c43ce4",
   "metadata": {},
   "outputs": [],
   "source": []
  }
 ],
 "metadata": {
  "kernelspec": {
   "display_name": "Python 3 (ipykernel)",
   "language": "python",
   "name": "python3"
  },
  "language_info": {
   "codemirror_mode": {
    "name": "ipython",
    "version": 3
   },
   "file_extension": ".py",
   "mimetype": "text/x-python",
   "name": "python",
   "nbconvert_exporter": "python",
   "pygments_lexer": "ipython3",
   "version": "3.11.3"
  }
 },
 "nbformat": 4,
 "nbformat_minor": 5
}
