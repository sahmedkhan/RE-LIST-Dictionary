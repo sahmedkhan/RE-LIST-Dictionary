{
 "cells": [
  {
   "cell_type": "code",
   "execution_count": 5,
   "id": "6e687c75",
   "metadata": {},
   "outputs": [
    {
     "name": "stdout",
     "output_type": "stream",
     "text": [
      "{'fname': 'Shafaat Ahmed', 'name': 'Farman Ali', 'age': 30}\n"
     ]
    },
    {
     "data": {
      "text/plain": [
       "'Shafaat Ahmed'"
      ]
     },
     "execution_count": 5,
     "metadata": {},
     "output_type": "execute_result"
    }
   ],
   "source": [
    "a = {\"fname\":\"Shafaat Ahmed\",\n",
    "     \"name\":\"Farman Ali\",\n",
    "     \"age\":30}\n",
    "print(a)\n",
    "\n",
    "a['fname']"
   ]
  },
  {
   "cell_type": "markdown",
   "id": "e0c2acd6",
   "metadata": {},
   "source": [
    "# Mutable"
   ]
  },
  {
   "cell_type": "code",
   "execution_count": 7,
   "id": "3fb56651",
   "metadata": {},
   "outputs": [
    {
     "data": {
      "text/plain": [
       "'ayub hashmi'"
      ]
     },
     "execution_count": 7,
     "metadata": {},
     "output_type": "execute_result"
    }
   ],
   "source": [
    "a = ['shafaat ahmed khan', 'ayub hashmi',30]\n",
    "\n",
    "a[1]"
   ]
  },
  {
   "cell_type": "code",
   "execution_count": 8,
   "id": "aebe2847",
   "metadata": {},
   "outputs": [
    {
     "data": {
      "text/plain": [
       "['shafaat ahmed khan', 'Ayub Siddiqui', 30]"
      ]
     },
     "execution_count": 8,
     "metadata": {},
     "output_type": "execute_result"
    }
   ],
   "source": [
    "a[1] = 'Ayub Siddiqui' # update/calling\n",
    "a"
   ]
  },
  {
   "cell_type": "code",
   "execution_count": 10,
   "id": "8ec6c052",
   "metadata": {},
   "outputs": [
    {
     "name": "stdout",
     "output_type": "stream",
     "text": [
      "Shafaat\n"
     ]
    },
    {
     "data": {
      "text/plain": [
       "'h'"
      ]
     },
     "execution_count": 10,
     "metadata": {},
     "output_type": "execute_result"
    }
   ],
   "source": [
    "a = 'Shafaat'\n",
    "print(a)\n",
    "\n",
    "a[1]"
   ]
  },
  {
   "cell_type": "code",
   "execution_count": 11,
   "id": "5fb29f30",
   "metadata": {},
   "outputs": [
    {
     "name": "stdout",
     "output_type": "stream",
     "text": [
      "Shafaat\n"
     ]
    },
    {
     "ename": "TypeError",
     "evalue": "'str' object does not support item assignment",
     "output_type": "error",
     "traceback": [
      "\u001b[1;31m---------------------------------------------------------------------------\u001b[0m",
      "\u001b[1;31mTypeError\u001b[0m                                 Traceback (most recent call last)",
      "Cell \u001b[1;32mIn[11], line 4\u001b[0m\n\u001b[0;32m      1\u001b[0m a \u001b[38;5;241m=\u001b[39m \u001b[38;5;124m'\u001b[39m\u001b[38;5;124mShafaat\u001b[39m\u001b[38;5;124m'\u001b[39m\n\u001b[0;32m      2\u001b[0m \u001b[38;5;28mprint\u001b[39m(a)\n\u001b[1;32m----> 4\u001b[0m a[\u001b[38;5;241m1\u001b[39m] \u001b[38;5;241m=\u001b[39m \u001b[38;5;124m'\u001b[39m\u001b[38;5;124mN\u001b[39m\u001b[38;5;124m'\u001b[39m\n\u001b[0;32m      6\u001b[0m \u001b[38;5;28mprint\u001b[39m(a)\n",
      "\u001b[1;31mTypeError\u001b[0m: 'str' object does not support item assignment"
     ]
    }
   ],
   "source": [
    "a = 'Shafaat'\n",
    "print(a)\n",
    "\n",
    "a[1] = 'N'\n",
    "\n",
    "print(a)"
   ]
  },
  {
   "cell_type": "markdown",
   "id": "4cc71ce3",
   "metadata": {},
   "source": [
    "# Tuple (immutable)"
   ]
  },
  {
   "cell_type": "code",
   "execution_count": 18,
   "id": "c3c31809",
   "metadata": {},
   "outputs": [
    {
     "name": "stdout",
     "output_type": "stream",
     "text": [
      "['__add__', '__class__', '__class_getitem__', '__contains__', '__delattr__', '__dir__', '__doc__', '__eq__', '__format__', '__ge__', '__getattribute__', '__getitem__', '__getnewargs__', '__getstate__', '__gt__', '__hash__', '__init__', '__init_subclass__', '__iter__', '__le__', '__len__', '__lt__', '__mul__', '__ne__', '__new__', '__reduce__', '__reduce_ex__', '__repr__', '__rmul__', '__setattr__', '__sizeof__', '__str__', '__subclasshook__', 'count', 'index']\n"
     ]
    },
    {
     "data": {
      "text/plain": [
       "['count', 'index']"
      ]
     },
     "execution_count": 18,
     "metadata": {},
     "output_type": "execute_result"
    }
   ],
   "source": [
    "a = ('x','y','z')\n",
    "\n",
    "print(dir(a))\n",
    "\n",
    "[i for i in dir(a) if \"__\" not in i]"
   ]
  },
  {
   "cell_type": "code",
   "execution_count": 21,
   "id": "719689af",
   "metadata": {},
   "outputs": [
    {
     "name": "stdout",
     "output_type": "stream",
     "text": [
      "x\n",
      "y\n",
      "z\n"
     ]
    }
   ],
   "source": [
    "a = ('x','y','z')\n",
    "\n",
    "for i in a:\n",
    "    print(i)"
   ]
  },
  {
   "cell_type": "code",
   "execution_count": 22,
   "id": "7005c435",
   "metadata": {},
   "outputs": [
    {
     "data": {
      "text/plain": [
       "'y'"
      ]
     },
     "execution_count": 22,
     "metadata": {},
     "output_type": "execute_result"
    }
   ],
   "source": [
    "a[1]"
   ]
  },
  {
   "cell_type": "code",
   "execution_count": 23,
   "id": "955dd24f",
   "metadata": {},
   "outputs": [
    {
     "data": {
      "text/plain": [
       "'z'"
      ]
     },
     "execution_count": 23,
     "metadata": {},
     "output_type": "execute_result"
    }
   ],
   "source": [
    "a[-1]"
   ]
  },
  {
   "cell_type": "code",
   "execution_count": 25,
   "id": "0c22338d",
   "metadata": {},
   "outputs": [
    {
     "name": "stdout",
     "output_type": "stream",
     "text": [
      "('x', 'y', 'z')\n",
      "2408234464704\n",
      "('pakistan', 'y', 'z')\n",
      "2408234343424\n"
     ]
    }
   ],
   "source": [
    "a = ('x','y','z')\n",
    "\n",
    "print(a)\n",
    "print(id(a))\n",
    "a = ('pakistan','y','z')\n",
    "print(a)\n",
    "print(id(a))"
   ]
  },
  {
   "cell_type": "code",
   "execution_count": 14,
   "id": "c5cb046b",
   "metadata": {},
   "outputs": [
    {
     "name": "stdout",
     "output_type": "stream",
     "text": [
      "{'roll_no': [1, 4, 6], 's_name': ['Q', 'R', 'T'], 'age': [20, 45, 62]}\n"
     ]
    },
    {
     "data": {
      "text/html": [
       "<div>\n",
       "<style scoped>\n",
       "    .dataframe tbody tr th:only-of-type {\n",
       "        vertical-align: middle;\n",
       "    }\n",
       "\n",
       "    .dataframe tbody tr th {\n",
       "        vertical-align: top;\n",
       "    }\n",
       "\n",
       "    .dataframe thead th {\n",
       "        text-align: right;\n",
       "    }\n",
       "</style>\n",
       "<table border=\"1\" class=\"dataframe\">\n",
       "  <thead>\n",
       "    <tr style=\"text-align: right;\">\n",
       "      <th></th>\n",
       "      <th>roll_no</th>\n",
       "      <th>s_name</th>\n",
       "      <th>age</th>\n",
       "    </tr>\n",
       "  </thead>\n",
       "  <tbody>\n",
       "    <tr>\n",
       "      <th>0</th>\n",
       "      <td>1</td>\n",
       "      <td>Q</td>\n",
       "      <td>20</td>\n",
       "    </tr>\n",
       "    <tr>\n",
       "      <th>1</th>\n",
       "      <td>4</td>\n",
       "      <td>R</td>\n",
       "      <td>45</td>\n",
       "    </tr>\n",
       "    <tr>\n",
       "      <th>2</th>\n",
       "      <td>6</td>\n",
       "      <td>T</td>\n",
       "      <td>62</td>\n",
       "    </tr>\n",
       "  </tbody>\n",
       "</table>\n",
       "</div>"
      ],
      "text/plain": [
       "   roll_no s_name  age\n",
       "0        1      Q   20\n",
       "1        4      R   45\n",
       "2        6      T   62"
      ]
     },
     "execution_count": 14,
     "metadata": {},
     "output_type": "execute_result"
    }
   ],
   "source": [
    "import pandas as pd\n",
    "\n",
    "data = {\"roll_no\":[1,4,6],\n",
    "       \"s_name\":[\"Q\",\"R\",\"T\"],\n",
    "       \"age\":[20,45,62]}\n",
    "\n",
    "print(data)\n",
    "\n",
    "df = pd.DataFrame(data)\n",
    "df"
   ]
  },
  {
   "cell_type": "code",
   "execution_count": 23,
   "id": "efc16597",
   "metadata": {},
   "outputs": [
    {
     "name": "stdout",
     "output_type": "stream",
     "text": [
      "False\n",
      "True\n"
     ]
    }
   ],
   "source": [
    "print('3441-289335-1' == '34412893351')\n",
    "print( '0344-289335-1'.replace(\"-\",'') == '0344-289335-1'.replace('-',''))"
   ]
  },
  {
   "cell_type": "markdown",
   "id": "2f1e2450",
   "metadata": {},
   "source": [
    "# Now replace index number with key\n",
    "{\n",
    "      * key1 : value1,\n",
    "      * key2 : value2,\n",
    "}\n",
    "\n",
    "* key = str, int\n",
    "* value = str, int, float, list, tuple, dict."
   ]
  },
  {
   "cell_type": "code",
   "execution_count": 4,
   "id": "d60d3a78",
   "metadata": {},
   "outputs": [
    {
     "name": "stdout",
     "output_type": "stream",
     "text": [
      "{'a': 'Pakistan', 50: 'Hello World'}\n",
      "Pakistan\n",
      "Hello World\n"
     ]
    }
   ],
   "source": [
    "d = {\n",
    "    'a' : \"Pakistan\",\n",
    "     50 : \"Hello World\"\n",
    "    }\n",
    "print(d)\n",
    "print(d['a'])\n",
    "print(d[50])"
   ]
  },
  {
   "cell_type": "code",
   "execution_count": 6,
   "id": "cb39fc69",
   "metadata": {},
   "outputs": [
    {
     "name": "stdout",
     "output_type": "stream",
     "text": [
      "{'a': 'Pakistan', 50: 'Hello World', (1, 2, 3, 4): 'KARACHI'}\n",
      "Pakistan\n",
      "Hello World\n",
      "KARACHI\n"
     ]
    }
   ],
   "source": [
    "d = {\n",
    "    'a' : \"Pakistan\",\n",
    "     50 : \"Hello World\",\n",
    "    (1,2,3,4) : \"KARACHI\" # wrong method\n",
    "    }\n",
    "print(d)\n",
    "print(d['a'])\n",
    "print(d[50])\n",
    "print(d[1,2,3,4])"
   ]
  },
  {
   "cell_type": "code",
   "execution_count": 1,
   "id": "cae12ddb",
   "metadata": {},
   "outputs": [
    {
     "name": "stdout",
     "output_type": "stream",
     "text": [
      "{'fname': 'Shafaat Ahmed', 'name': 'Farman Ali', 'age': 30}\n"
     ]
    },
    {
     "data": {
      "text/plain": [
       "'Shafaat Ahmed'"
      ]
     },
     "execution_count": 1,
     "metadata": {},
     "output_type": "execute_result"
    }
   ],
   "source": []
  },
  {
   "cell_type": "markdown",
   "id": "a04ed5fa",
   "metadata": {},
   "source": [
    "# list\n",
    "creation time\n",
    "* creat list [element1, element2...]\n",
    "    start **[** and end wirh **]**\n",
    "    \n",
    "* creat tuple (element1, element2..)\n",
    "    start **(** and end with **)**\n",
    "    \n",
    "* creat dictionary {key1,value, key2,value..}\n",
    "    start **{** and end with **}**\n",
    "    \n",
    "* creat set (element1, element2..)\n",
    "    start **(** and end with **)**\n",
    "\n",
    "calling time\n",
    "list_var(index)\n",
    "tuple_var(index)\n",
    "dict_var(key)"
   ]
  },
  {
   "cell_type": "markdown",
   "id": "351f4ca7",
   "metadata": {},
   "source": [
    "# set"
   ]
  },
  {
   "cell_type": "code",
   "execution_count": 3,
   "id": "601b21ae",
   "metadata": {},
   "outputs": [
    {
     "data": {
      "text/plain": [
       "{0, 1, 2, 3, 4, 6}"
      ]
     },
     "execution_count": 3,
     "metadata": {},
     "output_type": "execute_result"
    }
   ],
   "source": [
    "a = {2,4,6,4,3,2,6,1,0}\n",
    "a"
   ]
  },
  {
   "cell_type": "markdown",
   "id": "66e05c4f",
   "metadata": {},
   "source": [
    "# Dictionary"
   ]
  },
  {
   "cell_type": "code",
   "execution_count": 4,
   "id": "0ed3cd26",
   "metadata": {},
   "outputs": [
    {
     "name": "stdout",
     "output_type": "stream",
     "text": [
      "{'fname': 'Shafaat Ahmed', 'name': 'Farman Ali', 'age': 30}\n"
     ]
    },
    {
     "data": {
      "text/plain": [
       "'Shafaat Ahmed'"
      ]
     },
     "execution_count": 4,
     "metadata": {},
     "output_type": "execute_result"
    }
   ],
   "source": [
    "a = {\"fname\":\"Shafaat Ahmed\",\n",
    "     \"name\":\"Farman Ali\",\n",
    "     \"age\":30}\n",
    "print(a)\n",
    "\n",
    "a['fname']"
   ]
  },
  {
   "cell_type": "code",
   "execution_count": 12,
   "id": "4924b265",
   "metadata": {},
   "outputs": [
    {
     "name": "stdout",
     "output_type": "stream",
     "text": [
      "['AI', 'BI', 'DI'] <class 'list'>\n",
      "{'AI', 'BI', 'DI'} <class 'set'>\n",
      "['AI', 'BI', 'DI'] <class 'list'>\n",
      "['DI', 'BI', 'AI'] <class 'list'>\n"
     ]
    }
   ],
   "source": [
    "course = [\"AI\",\"BI\",\"DI\"]\n",
    "print(course, type(course))\n",
    "\n",
    "course = set(course)\n",
    "print(course, type(course))\n",
    "\n",
    "course = list(course)\n",
    "print(course, type(course))\n",
    "\n",
    "course.reverse()\n",
    "print(course, type(course))"
   ]
  },
  {
   "cell_type": "code",
   "execution_count": 18,
   "id": "0733cab6",
   "metadata": {},
   "outputs": [
    {
     "name": "stdout",
     "output_type": "stream",
     "text": [
      "{1, 2, 3, 'b', 'x', 'a'} <class 'set'>\n",
      "[1, 2, 3, 'b', 'x', 'a'] <class 'list'>\n",
      "[1, 2, 3, 'b', 'x', 'a']\n",
      "['b', 'x', 'a']\n",
      "[1, 2, 3]\n",
      "['b', 'x', 'a', 1, 2, 3]\n"
     ]
    }
   ],
   "source": [
    "a = [1,2,2,2,2,3,'a','b','x'] #list\n",
    "#convert into unique vlues\n",
    "a = set(a)  #set unique\n",
    "print(a, type(a))\n",
    "\n",
    "#convert into list for apply my function on it\n",
    "a = list(a)\n",
    "print(a, type(a))\n",
    "\n",
    "a_string = [i for i in a] # all elements\n",
    "print(a_string)\n",
    "\n",
    "a_string = [i for i in a if isinstance(i,str)] # all string\n",
    "print(a_string)\n",
    "\n",
    "a_integer = [i for i in a if isinstance(i,int)] # all integer\n",
    "print(a_integer)\n",
    "\n",
    "a = a_string + a_integer\n",
    "print(a)"
   ]
  },
  {
   "cell_type": "code",
   "execution_count": null,
   "id": "d34d4e78",
   "metadata": {},
   "outputs": [],
   "source": []
  }
 ],
 "metadata": {
  "kernelspec": {
   "display_name": "Python 3 (ipykernel)",
   "language": "python",
   "name": "python3"
  },
  "language_info": {
   "codemirror_mode": {
    "name": "ipython",
    "version": 3
   },
   "file_extension": ".py",
   "mimetype": "text/x-python",
   "name": "python",
   "nbconvert_exporter": "python",
   "pygments_lexer": "ipython3",
   "version": "3.11.3"
  }
 },
 "nbformat": 4,
 "nbformat_minor": 5
}
